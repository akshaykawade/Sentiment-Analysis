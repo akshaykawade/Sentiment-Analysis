{
 "cells": [
  {
   "cell_type": "code",
   "execution_count": 18,
   "metadata": {
    "collapsed": false,
    "deletable": true,
    "editable": true
   },
   "outputs": [],
   "source": [
    "import wikipedia as wp\n",
    "from wordcloud import WordCloud, STOPWORDS\n",
    "from os import path\n",
    "import numpy as np\n",
    "from PIL import Image\n",
    "\n",
    "def get_wiki(query):\n",
    "    title= wp.search(query, results=1)\n",
    "    page= wp.page(title)\n",
    "    return page.content\n",
    "\n",
    "def printing_top_word_frequencies():\n",
    "    split_contents= contents.split(\" \")\n",
    "\n",
    "    relevant_words= list(filter(lambda x: x not in STOPWORDS,split_contents))\n",
    "\n",
    "    word_count = dict()\n",
    "\n",
    "    for i in relevant_words:\n",
    "        if i in word_count.keys():\n",
    "            word_count[i]=word_count[i]+1\n",
    "        else:\n",
    "            word_count[i]=1\n",
    "    final_unique_values= sorted(set(list(word_count.values())),reverse=True)\n",
    "    print(\"Words appeared the most\")\n",
    "    for y in final_unique_values[0:5]:\n",
    "        for (a,b) in word_count.items():\n",
    "            if b==y:\n",
    "                print((a,b))\n",
    "    "
   ]
  },
  {
   "cell_type": "code",
   "execution_count": 21,
   "metadata": {
    "collapsed": false,
    "deletable": true,
    "editable": true
   },
   "outputs": [
    {
     "name": "stdout",
     "output_type": "stream",
     "text": [
      "Enter the search term to form a wordcloud for: Statistics\n",
      "Words appeared the most\n",
      "('data', 55)\n",
      "('statistical', 53)\n",
      "('statistics', 46)\n",
      "('The', 31)\n",
      "('sample', 31)\n",
      "('probability', 28)\n",
      "('hypothesis', 28)\n"
     ]
    }
   ],
   "source": [
    "if __name__ == \"__main__\":\n",
    "    search_term=input(\"Enter the search term to form a wordcloud for: \")\n",
    "    contents=get_wiki(search_term)\n",
    "    printing_top_word_frequencies()\n",
    "    create_wordcloud(contents)"
   ]
  },
  {
   "cell_type": "code",
   "execution_count": 17,
   "metadata": {
    "collapsed": false,
    "deletable": true,
    "editable": true
   },
   "outputs": [],
   "source": [
    "def create_wordcloud(text):\n",
    "    # create numpy araay for wordcloud mask image\n",
    "    mask = np.array(Image.open(path.join(\"cloud.png\")))\n",
    "\n",
    "    # create set of stopwords\n",
    "    stopwords = set(STOPWORDS)\n",
    "\n",
    "    # create wordcloud object\n",
    "    wc = WordCloud(background_color=\"white\",\n",
    "                    max_words=200, \n",
    "                    mask=mask,\n",
    "                    stopwords=stopwords)\n",
    "\n",
    "    # generate wordcloud\n",
    "    wc.generate(text)\n",
    "\n",
    "    # save wordcloud\n",
    "    wc.to_file(path.join(\"wc.png\"))"
   ]
  }
 ],
 "metadata": {
  "kernelspec": {
   "display_name": "Python 3",
   "language": "python",
   "name": "python3"
  },
  "language_info": {
   "codemirror_mode": {
    "name": "ipython",
    "version": 3
   },
   "file_extension": ".py",
   "mimetype": "text/x-python",
   "name": "python",
   "nbconvert_exporter": "python",
   "pygments_lexer": "ipython3",
   "version": "3.5.2"
  }
 },
 "nbformat": 4,
 "nbformat_minor": 2
}
